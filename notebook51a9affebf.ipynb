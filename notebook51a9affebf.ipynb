{
 "cells": [
  {
   "cell_type": "code",
   "execution_count": 1,
   "id": "ccaf22b1",
   "metadata": {
    "_cell_guid": "b1076dfc-b9ad-4769-8c92-a6c4dae69d19",
    "_uuid": "8f2839f25d086af736a60e9eeb907d3b93b6e0e5",
    "execution": {
     "iopub.execute_input": "2023-08-17T16:15:19.708149Z",
     "iopub.status.busy": "2023-08-17T16:15:19.707628Z",
     "iopub.status.idle": "2023-08-17T16:15:21.611305Z",
     "shell.execute_reply": "2023-08-17T16:15:21.609402Z"
    },
    "papermill": {
     "duration": 1.913669,
     "end_time": "2023-08-17T16:15:21.614744",
     "exception": false,
     "start_time": "2023-08-17T16:15:19.701075",
     "status": "completed"
    },
    "tags": []
   },
   "outputs": [
    {
     "name": "stdout",
     "output_type": "stream",
     "text": [
      "Cloning into 'alpha_mix_active_learning'...\r\n",
      "remote: Enumerating objects: 73, done.\u001b[K\r\n",
      "remote: Counting objects: 100% (37/37), done.\u001b[K\r\n",
      "remote: Compressing objects: 100% (27/27), done.\u001b[K\r\n",
      "remote: Total 73 (delta 23), reused 10 (delta 10), pack-reused 36\u001b[K\r\n",
      "Unpacking objects: 100% (73/73), 529.40 KiB | 6.02 MiB/s, done.\r\n"
     ]
    }
   ],
   "source": [
    "!git clone https://github.com/TheSolY/alpha_mix_active_learning.git"
   ]
  },
  {
   "cell_type": "code",
   "execution_count": 2,
   "id": "8de7a550",
   "metadata": {
    "execution": {
     "iopub.execute_input": "2023-08-17T16:15:21.625967Z",
     "iopub.status.busy": "2023-08-17T16:15:21.625201Z",
     "iopub.status.idle": "2023-08-17T16:15:22.729033Z",
     "shell.execute_reply": "2023-08-17T16:15:22.727716Z"
    },
    "papermill": {
     "duration": 1.113365,
     "end_time": "2023-08-17T16:15:22.732578",
     "exception": false,
     "start_time": "2023-08-17T16:15:21.619213",
     "status": "completed"
    },
    "tags": []
   },
   "outputs": [
    {
     "name": "stdout",
     "output_type": "stream",
     "text": [
      "fatal: not a git repository (or any parent up to mount point /kaggle)\r\n",
      "Stopping at filesystem boundary (GIT_DISCOVERY_ACROSS_FILESYSTEM not set).\r\n"
     ]
    }
   ],
   "source": [
    "! git pull"
   ]
  },
  {
   "cell_type": "code",
   "execution_count": 3,
   "id": "d196e5ea",
   "metadata": {
    "execution": {
     "iopub.execute_input": "2023-08-17T16:15:22.743562Z",
     "iopub.status.busy": "2023-08-17T16:15:22.743065Z",
     "iopub.status.idle": "2023-08-17T16:15:22.748720Z",
     "shell.execute_reply": "2023-08-17T16:15:22.747518Z"
    },
    "papermill": {
     "duration": 0.015359,
     "end_time": "2023-08-17T16:15:22.752113",
     "exception": false,
     "start_time": "2023-08-17T16:15:22.736754",
     "status": "completed"
    },
    "tags": []
   },
   "outputs": [],
   "source": [
    "import os\n",
    "os.chdir('alpha_mix_active_learning')"
   ]
  },
  {
   "cell_type": "code",
   "execution_count": 4,
   "id": "d4cebd71",
   "metadata": {
    "execution": {
     "iopub.execute_input": "2023-08-17T16:15:22.763036Z",
     "iopub.status.busy": "2023-08-17T16:15:22.762547Z",
     "iopub.status.idle": "2023-08-17T16:15:57.916845Z",
     "shell.execute_reply": "2023-08-17T16:15:57.915370Z"
    },
    "papermill": {
     "duration": 35.163519,
     "end_time": "2023-08-17T16:15:57.920020",
     "exception": false,
     "start_time": "2023-08-17T16:15:22.756501",
     "status": "completed"
    },
    "tags": []
   },
   "outputs": [
    {
     "name": "stdout",
     "output_type": "stream",
     "text": [
      "Requirement already satisfied: torchvision in /opt/conda/lib/python3.10/site-packages (0.15.1+cpu)\r\n",
      "Requirement already satisfied: numpy in /opt/conda/lib/python3.10/site-packages (from torchvision) (1.23.5)\r\n",
      "Requirement already satisfied: requests in /opt/conda/lib/python3.10/site-packages (from torchvision) (2.31.0)\r\n",
      "Requirement already satisfied: torch==2.0.0 in /opt/conda/lib/python3.10/site-packages (from torchvision) (2.0.0+cpu)\r\n",
      "Requirement already satisfied: pillow!=8.3.*,>=5.3.0 in /opt/conda/lib/python3.10/site-packages (from torchvision) (9.5.0)\r\n",
      "Requirement already satisfied: filelock in /opt/conda/lib/python3.10/site-packages (from torch==2.0.0->torchvision) (3.12.2)\r\n",
      "Requirement already satisfied: typing-extensions in /opt/conda/lib/python3.10/site-packages (from torch==2.0.0->torchvision) (4.6.3)\r\n",
      "Requirement already satisfied: sympy in /opt/conda/lib/python3.10/site-packages (from torch==2.0.0->torchvision) (1.12)\r\n",
      "Requirement already satisfied: networkx in /opt/conda/lib/python3.10/site-packages (from torch==2.0.0->torchvision) (3.1)\r\n",
      "Requirement already satisfied: jinja2 in /opt/conda/lib/python3.10/site-packages (from torch==2.0.0->torchvision) (3.1.2)\r\n",
      "Requirement already satisfied: charset-normalizer<4,>=2 in /opt/conda/lib/python3.10/site-packages (from requests->torchvision) (3.1.0)\r\n",
      "Requirement already satisfied: idna<4,>=2.5 in /opt/conda/lib/python3.10/site-packages (from requests->torchvision) (3.4)\r\n",
      "Requirement already satisfied: urllib3<3,>=1.21.1 in /opt/conda/lib/python3.10/site-packages (from requests->torchvision) (1.26.15)\r\n",
      "Requirement already satisfied: certifi>=2017.4.17 in /opt/conda/lib/python3.10/site-packages (from requests->torchvision) (2023.5.7)\r\n",
      "Requirement already satisfied: MarkupSafe>=2.0 in /opt/conda/lib/python3.10/site-packages (from jinja2->torch==2.0.0->torchvision) (2.1.3)\r\n",
      "Requirement already satisfied: mpmath>=0.19 in /opt/conda/lib/python3.10/site-packages (from sympy->torch==2.0.0->torchvision) (1.3.0)\r\n",
      "Collecting openml\r\n",
      "  Downloading openml-0.14.1.tar.gz (131 kB)\r\n",
      "\u001b[2K     \u001b[90m━━━━━━━━━━━━━━━━━━━━━━━━━━━━━━━━━━━━━━━\u001b[0m \u001b[32m131.3/131.3 kB\u001b[0m \u001b[31m5.3 MB/s\u001b[0m eta \u001b[36m0:00:00\u001b[0m\r\n",
      "\u001b[?25h  Preparing metadata (setup.py) ... \u001b[?25l-\b \b\\\b \b|\b \bdone\r\n",
      "\u001b[?25hCollecting liac-arff>=2.4.0 (from openml)\r\n",
      "  Downloading liac-arff-2.5.0.tar.gz (13 kB)\r\n",
      "  Preparing metadata (setup.py) ... \u001b[?25l-\b \b\\\b \bdone\r\n",
      "\u001b[?25hCollecting xmltodict (from openml)\r\n",
      "  Downloading xmltodict-0.13.0-py2.py3-none-any.whl (10.0 kB)\r\n",
      "Requirement already satisfied: requests in /opt/conda/lib/python3.10/site-packages (from openml) (2.31.0)\r\n",
      "Requirement already satisfied: scikit-learn>=0.18 in /opt/conda/lib/python3.10/site-packages (from openml) (1.2.2)\r\n",
      "Requirement already satisfied: python-dateutil in /opt/conda/lib/python3.10/site-packages (from openml) (2.8.2)\r\n",
      "Requirement already satisfied: pandas>=1.0.0 in /opt/conda/lib/python3.10/site-packages (from openml) (1.5.3)\r\n",
      "Requirement already satisfied: scipy>=0.13.3 in /opt/conda/lib/python3.10/site-packages (from openml) (1.11.1)\r\n",
      "Requirement already satisfied: numpy>=1.6.2 in /opt/conda/lib/python3.10/site-packages (from openml) (1.23.5)\r\n",
      "Collecting minio (from openml)\r\n",
      "  Downloading minio-7.1.15-py3-none-any.whl (77 kB)\r\n",
      "\u001b[2K     \u001b[90m━━━━━━━━━━━━━━━━━━━━━━━━━━━━━━━━━━━━━━━━\u001b[0m \u001b[32m77.4/77.4 kB\u001b[0m \u001b[31m5.4 MB/s\u001b[0m eta \u001b[36m0:00:00\u001b[0m\r\n",
      "\u001b[?25hRequirement already satisfied: pyarrow in /opt/conda/lib/python3.10/site-packages (from openml) (9.0.0)\r\n",
      "Requirement already satisfied: pytz>=2020.1 in /opt/conda/lib/python3.10/site-packages (from pandas>=1.0.0->openml) (2023.3)\r\n",
      "Requirement already satisfied: six>=1.5 in /opt/conda/lib/python3.10/site-packages (from python-dateutil->openml) (1.16.0)\r\n",
      "Requirement already satisfied: joblib>=1.1.1 in /opt/conda/lib/python3.10/site-packages (from scikit-learn>=0.18->openml) (1.2.0)\r\n",
      "Requirement already satisfied: threadpoolctl>=2.0.0 in /opt/conda/lib/python3.10/site-packages (from scikit-learn>=0.18->openml) (3.1.0)\r\n",
      "Requirement already satisfied: certifi in /opt/conda/lib/python3.10/site-packages (from minio->openml) (2023.5.7)\r\n",
      "Requirement already satisfied: urllib3 in /opt/conda/lib/python3.10/site-packages (from minio->openml) (1.26.15)\r\n",
      "Requirement already satisfied: charset-normalizer<4,>=2 in /opt/conda/lib/python3.10/site-packages (from requests->openml) (3.1.0)\r\n",
      "Requirement already satisfied: idna<4,>=2.5 in /opt/conda/lib/python3.10/site-packages (from requests->openml) (3.4)\r\n",
      "Building wheels for collected packages: openml, liac-arff\r\n",
      "  Building wheel for openml (setup.py) ... \u001b[?25l-\b \b\\\b \b|\b \b/\b \bdone\r\n",
      "\u001b[?25h  Created wheel for openml: filename=openml-0.14.1-py3-none-any.whl size=146945 sha256=c69793e2261c4e3f3557003d3a85ba1ae3006a29f4614137ff37d194b748c39e\r\n",
      "  Stored in directory: /root/.cache/pip/wheels/75/bc/fd/739778254a2881ef96b139d0aaf60c6d4f9130bb1459b48f10\r\n",
      "  Building wheel for liac-arff (setup.py) ... \u001b[?25l-\b \b\\\b \bdone\r\n",
      "\u001b[?25h  Created wheel for liac-arff: filename=liac_arff-2.5.0-py3-none-any.whl size=11730 sha256=f0361e1d29b071942d9e5ac234023c6c86b9cb0788787455a3a7bc93beda995a\r\n",
      "  Stored in directory: /root/.cache/pip/wheels/5d/2a/9c/3895d9617f8f49a0883ba686326d598e78a1c2f54fe3cae86d\r\n",
      "Successfully built openml liac-arff\r\n",
      "Installing collected packages: xmltodict, minio, liac-arff, openml\r\n",
      "Successfully installed liac-arff-2.5.0 minio-7.1.15 openml-0.14.1 xmltodict-0.13.0\r\n"
     ]
    }
   ],
   "source": [
    "!pip install torchvision\n",
    "!pip install openml"
   ]
  },
  {
   "cell_type": "code",
   "execution_count": null,
   "id": "1e2ee587",
   "metadata": {
    "jupyter": {
     "source_hidden": true
    },
    "papermill": {
     "duration": 0.006922,
     "end_time": "2023-08-17T16:15:57.934249",
     "exception": false,
     "start_time": "2023-08-17T16:15:57.927327",
     "status": "completed"
    },
    "tags": []
   },
   "outputs": [],
   "source": []
  },
  {
   "cell_type": "code",
   "execution_count": 5,
   "id": "4c4a16ce",
   "metadata": {
    "execution": {
     "iopub.execute_input": "2023-08-17T16:15:57.950982Z",
     "iopub.status.busy": "2023-08-17T16:15:57.950496Z",
     "iopub.status.idle": "2023-08-17T16:16:27.682925Z",
     "shell.execute_reply": "2023-08-17T16:16:27.681439Z"
    },
    "papermill": {
     "duration": 29.744985,
     "end_time": "2023-08-17T16:16:27.686410",
     "exception": false,
     "start_time": "2023-08-17T16:15:57.941425",
     "status": "completed"
    },
    "tags": []
   },
   "outputs": [
    {
     "name": "stdout",
     "output_type": "stream",
     "text": [
      "/opt/conda/lib/python3.10/site-packages/scipy/__init__.py:146: UserWarning: A NumPy version >=1.16.5 and <1.23.0 is required for this version of SciPy (detected version 1.23.5\r\n",
      "  warnings.warn(f\"A NumPy version >={np_minversion} and <{np_maxversion}\"\r\n",
      "/opt/conda/lib/python3.10/site-packages/tensorflow_io/python/ops/__init__.py:98: UserWarning: unable to load libtensorflow_io_plugins.so: unable to open file: libtensorflow_io_plugins.so, from paths: ['/opt/conda/lib/python3.10/site-packages/tensorflow_io/python/ops/libtensorflow_io_plugins.so']\r\n",
      "caused by: ['/opt/conda/lib/python3.10/site-packages/tensorflow_io/python/ops/libtensorflow_io_plugins.so: undefined symbol: _ZN3tsl6StatusC1EN10tensorflow5error4CodeESt17basic_string_viewIcSt11char_traitsIcEENS_14SourceLocationE']\r\n",
      "  warnings.warn(f\"unable to load libtensorflow_io_plugins.so: {e}\")\r\n",
      "/opt/conda/lib/python3.10/site-packages/tensorflow_io/python/ops/__init__.py:104: UserWarning: file system plugins are not loaded: unable to open file: libtensorflow_io.so, from paths: ['/opt/conda/lib/python3.10/site-packages/tensorflow_io/python/ops/libtensorflow_io.so']\r\n",
      "caused by: ['/opt/conda/lib/python3.10/site-packages/tensorflow_io/python/ops/libtensorflow_io.so: undefined symbol: _ZTVN10tensorflow13GcsFileSystemE']\r\n",
      "  warnings.warn(f\"file system plugins are not loaded: {e}\")\r\n",
      "Downloading https://www.cs.toronto.edu/~kriz/cifar-10-python.tar.gz to data/CIFAR10/cifar-10-python.tar.gz\r\n",
      "100%|███████████████████████| 170498071/170498071 [00:03<00:00, 46090437.19it/s]\r\n",
      "Extracting data/CIFAR10/cifar-10-python.tar.gz to data/CIFAR10\r\n",
      "Files already downloaded and verified\r\n",
      "number of labeled pool: 5000\r\n",
      "number of unlabeled pool: 45000\r\n",
      "number of validation pool: 0\r\n",
      "number of testing pool: 10000\r\n",
      "Using cpu device.\r\n",
      "Traceback (most recent call last):\r\n",
      "  File \"/kaggle/working/alpha_mix_active_learning/main.py\", line 778, in <module>\r\n",
      "    supervised_learning(args)\r\n",
      "  File \"/kaggle/working/alpha_mix_active_learning/main.py\", line 386, in supervised_learning\r\n",
      "    al_train(args, train_args, train_params, args.strategy)\r\n",
      "  File \"/kaggle/working/alpha_mix_active_learning/main.py\", line 414, in al_train\r\n",
      "    al_train_sub_experiment(args, train_args, train_params, strategy_name, general_path, seed)\r\n",
      "  File \"/kaggle/working/alpha_mix_active_learning/main.py\", line 561, in al_train_sub_experiment\r\n",
      "    model = Training(net, net_args, handler, train_params, writer, device, init_model=True)\r\n",
      "  File \"/kaggle/working/alpha_mix_active_learning/models/training.py\", line 24, in __init__\r\n",
      "    self.clf = self.net(**self.net_args).to(self.device)\r\n",
      "  File \"/kaggle/working/alpha_mix_active_learning/models/vision_transformer.py\", line 327, in __init__\r\n",
      "    self.vit_model = globals()[arch_name](patch_size=patch_size, num_classes=0)\r\n",
      "KeyError: 'r'\r\n"
     ]
    }
   ],
   "source": [
    "!python main.py --data_name CIFAR10 --data_dir data --log_dir /kaggle/working/data/cifar-10-batches-py --n_init_lb 5000 --n_query 5000 --n_round 9 --learning_rate 0.001 --n_epoch 20 --model r --strategy AlphaMixSampling --alpha_opt"
   ]
  },
  {
   "cell_type": "code",
   "execution_count": null,
   "id": "33e33c9e",
   "metadata": {
    "papermill": {
     "duration": 0.011028,
     "end_time": "2023-08-17T16:16:27.709143",
     "exception": false,
     "start_time": "2023-08-17T16:16:27.698115",
     "status": "completed"
    },
    "tags": []
   },
   "outputs": [],
   "source": []
  }
 ],
 "metadata": {
  "kernelspec": {
   "display_name": "Python 3",
   "language": "python",
   "name": "python3"
  },
  "language_info": {
   "codemirror_mode": {
    "name": "ipython",
    "version": 3
   },
   "file_extension": ".py",
   "mimetype": "text/x-python",
   "name": "python",
   "nbconvert_exporter": "python",
   "pygments_lexer": "ipython3",
   "version": "3.10.12"
  },
  "papermill": {
   "default_parameters": {},
   "duration": 83.012636,
   "end_time": "2023-08-17T16:16:30.358439",
   "environment_variables": {},
   "exception": null,
   "input_path": "__notebook__.ipynb",
   "output_path": "__notebook__.ipynb",
   "parameters": {},
   "start_time": "2023-08-17T16:15:07.345803",
   "version": "2.4.0"
  }
 },
 "nbformat": 4,
 "nbformat_minor": 5
}
